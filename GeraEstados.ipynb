{
 "cells": [
  {
   "cell_type": "markdown",
   "metadata": {},
   "source": [
    "# Gera Dados\n",
    "\n",
    "Este é o arquivo responśavel por extrair e comparar os dados das planilhas `eleitores_estado_2018.csv` e `eleitores_estado_2021.csv`, colocando os resultados em `filiados_por_estado.xlsx`. As planilhas foram manualmente extraídas do site do TSE.\n",
    "\n",
    "## Importação de bibliotecas"
   ]
  },
  {
   "cell_type": "code",
   "execution_count": 22,
   "metadata": {},
   "outputs": [],
   "source": [
    "import pandas as pd"
   ]
  },
  {
   "cell_type": "markdown",
   "metadata": {},
   "source": [
    "## Extraindo dados\n",
    "\n",
    "Essas duas células apenas extraem os dados das planilhas e os colocam DataFrames, usados para manipulação desses dados. O conteúdo desses DataFrames também é checado. "
   ]
  },
  {
   "cell_type": "code",
   "execution_count": 23,
   "metadata": {},
   "outputs": [
    {
     "data": {
      "text/html": "<div>\n<style scoped>\n    .dataframe tbody tr th:only-of-type {\n        vertical-align: middle;\n    }\n\n    .dataframe tbody tr th {\n        vertical-align: top;\n    }\n\n    .dataframe thead th {\n        text-align: right;\n    }\n</style>\n<table border=\"1\" class=\"dataframe\">\n  <thead>\n    <tr style=\"text-align: right;\">\n      <th></th>\n      <th>Abrangência</th>\n      <th>Partido</th>\n      <th>Eleitores</th>\n      <th>%</th>\n    </tr>\n  </thead>\n  <tbody>\n    <tr>\n      <th>0</th>\n      <td>AC</td>\n      <td>AVANTE</td>\n      <td>664</td>\n      <td>0,004</td>\n    </tr>\n    <tr>\n      <th>1</th>\n      <td>AC</td>\n      <td>DC</td>\n      <td>1.250</td>\n      <td>0,007</td>\n    </tr>\n    <tr>\n      <th>2</th>\n      <td>AC</td>\n      <td>DEM</td>\n      <td>3.104</td>\n      <td>0,018</td>\n    </tr>\n    <tr>\n      <th>3</th>\n      <td>AC</td>\n      <td>MDB</td>\n      <td>8.728</td>\n      <td>0,052</td>\n    </tr>\n    <tr>\n      <th>4</th>\n      <td>AC</td>\n      <td>NOVO</td>\n      <td>22</td>\n      <td>0,000</td>\n    </tr>\n  </tbody>\n</table>\n</div>",
      "text/plain": "  Abrangência Partido Eleitores      %\n0          AC  AVANTE       664  0,004\n1          AC      DC     1.250  0,007\n2          AC     DEM     3.104  0,018\n3          AC     MDB     8.728  0,052\n4          AC    NOVO        22  0,000"
     },
     "execution_count": 23,
     "metadata": {},
     "output_type": "execute_result"
    }
   ],
   "source": [
    "estados_2018 = pd.read_csv('eleitores_estado_2018.csv', sep=';')\n",
    "estados_2021 = pd.read_csv('eleitores_estado_2021.csv', sep=';')\n",
    "estados_2018.head()"
   ]
  },
  {
   "cell_type": "code",
   "execution_count": 24,
   "metadata": {
    "tags": []
   },
   "outputs": [
    {
     "data": {
      "text/html": "<div>\n<style scoped>\n    .dataframe tbody tr th:only-of-type {\n        vertical-align: middle;\n    }\n\n    .dataframe tbody tr th {\n        vertical-align: top;\n    }\n\n    .dataframe thead th {\n        text-align: right;\n    }\n</style>\n<table border=\"1\" class=\"dataframe\">\n  <thead>\n    <tr style=\"text-align: right;\">\n      <th></th>\n      <th>Abrangência</th>\n      <th>Partido</th>\n      <th>Eleitores</th>\n      <th>%</th>\n    </tr>\n  </thead>\n  <tbody>\n    <tr>\n      <th>0</th>\n      <td>AC</td>\n      <td>AVANTE</td>\n      <td>671</td>\n      <td>0,004</td>\n    </tr>\n    <tr>\n      <th>1</th>\n      <td>AC</td>\n      <td>CIDADANIA</td>\n      <td>1.333</td>\n      <td>0,008</td>\n    </tr>\n    <tr>\n      <th>2</th>\n      <td>AC</td>\n      <td>DC</td>\n      <td>1.124</td>\n      <td>0,007</td>\n    </tr>\n    <tr>\n      <th>3</th>\n      <td>AC</td>\n      <td>DEM</td>\n      <td>3.240</td>\n      <td>0,020</td>\n    </tr>\n    <tr>\n      <th>4</th>\n      <td>AC</td>\n      <td>MDB</td>\n      <td>9.023</td>\n      <td>0,056</td>\n    </tr>\n  </tbody>\n</table>\n</div>",
      "text/plain": "  Abrangência    Partido Eleitores      %\n0          AC     AVANTE       671  0,004\n1          AC  CIDADANIA     1.333  0,008\n2          AC         DC     1.124  0,007\n3          AC        DEM     3.240  0,020\n4          AC        MDB     9.023  0,056"
     },
     "execution_count": 24,
     "metadata": {},
     "output_type": "execute_result"
    }
   ],
   "source": [
    "estados_2021.head()"
   ]
  },
  {
   "cell_type": "markdown",
   "metadata": {},
   "source": [
    "Posteriormente, alguns nomes de partidos são trocados e padronizados entre as planilhas, a fim de facilitar a comparação dos dados entre elas, pois alguns partidos trocaram de nome entre os anos, ou sua sigla acabou sendo registrada de duas formas diferentes. Essas inconsistências infelizmente são comuns no banco de dados do TSE"
   ]
  },
  {
   "cell_type": "code",
   "execution_count": 25,
   "metadata": {},
   "outputs": [
    {
     "data": {
      "text/html": "<div>\n<style scoped>\n    .dataframe tbody tr th:only-of-type {\n        vertical-align: middle;\n    }\n\n    .dataframe tbody tr th {\n        vertical-align: top;\n    }\n\n    .dataframe thead th {\n        text-align: right;\n    }\n</style>\n<table border=\"1\" class=\"dataframe\">\n  <thead>\n    <tr style=\"text-align: right;\">\n      <th></th>\n      <th>Abrangência</th>\n      <th>Partido</th>\n      <th>Eleitores</th>\n      <th>%</th>\n    </tr>\n  </thead>\n  <tbody>\n    <tr>\n      <th>0</th>\n      <td>AC</td>\n      <td>AVANTE</td>\n      <td>664</td>\n      <td>0,004</td>\n    </tr>\n    <tr>\n      <th>1</th>\n      <td>AC</td>\n      <td>DC</td>\n      <td>1.250</td>\n      <td>0,007</td>\n    </tr>\n    <tr>\n      <th>2</th>\n      <td>AC</td>\n      <td>DEM</td>\n      <td>3.104</td>\n      <td>0,018</td>\n    </tr>\n    <tr>\n      <th>3</th>\n      <td>AC</td>\n      <td>MDB</td>\n      <td>8.728</td>\n      <td>0,052</td>\n    </tr>\n    <tr>\n      <th>4</th>\n      <td>AC</td>\n      <td>NOVO</td>\n      <td>22</td>\n      <td>0,000</td>\n    </tr>\n    <tr>\n      <th>5</th>\n      <td>AC</td>\n      <td>PATRIOTA</td>\n      <td>270</td>\n      <td>0,002</td>\n    </tr>\n    <tr>\n      <th>6</th>\n      <td>AC</td>\n      <td>PCDOB</td>\n      <td>8.168</td>\n      <td>0,049</td>\n    </tr>\n    <tr>\n      <th>7</th>\n      <td>AC</td>\n      <td>PCB</td>\n      <td>84</td>\n      <td>0,001</td>\n    </tr>\n    <tr>\n      <th>8</th>\n      <td>AC</td>\n      <td>PCO</td>\n      <td>25</td>\n      <td>0,000</td>\n    </tr>\n    <tr>\n      <th>9</th>\n      <td>AC</td>\n      <td>PDT</td>\n      <td>2.207</td>\n      <td>0,013</td>\n    </tr>\n  </tbody>\n</table>\n</div>",
      "text/plain": "  Abrangência   Partido Eleitores      %\n0          AC    AVANTE       664  0,004\n1          AC        DC     1.250  0,007\n2          AC       DEM     3.104  0,018\n3          AC       MDB     8.728  0,052\n4          AC      NOVO        22  0,000\n5          AC  PATRIOTA       270  0,002\n6          AC     PCDOB     8.168  0,049\n7          AC       PCB        84  0,001\n8          AC       PCO        25  0,000\n9          AC       PDT     2.207  0,013"
     },
     "execution_count": 25,
     "metadata": {},
     "output_type": "execute_result"
    }
   ],
   "source": [
    "estados_2018 = estados_2018.replace('PATRI', 'PATRIOTA')\n",
    "estados_2018 = estados_2018.replace('PC DO B', 'PCDOB')\n",
    "estados_2018 = estados_2018.replace('SD', 'SOLIDARIEDADE')\n",
    "estados_2018 = estados_2018.replace('PR', 'PL')\n",
    "estados_2018 = estados_2018.replace('PRB', 'REPUBLICANOS')\n",
    "estados_2018 = estados_2018.replace('PPS', 'CIDADANIA')\n",
    "estados_2018 = estados_2018.replace('PR', 'PL')\n",
    "\n",
    "estados_2021 = estados_2021.replace('PATRI', 'PATRIOTA')\n",
    "estados_2021 = estados_2021.replace('PC DO B', 'PCDOB')\n",
    "estados_2021 = estados_2021.replace('SD', 'SOLIDARIEDADE')\n",
    "estados_2021 = estados_2021.replace('PR', 'PL')\n",
    "estados_2021 = estados_2021.replace('PRB', 'REPUBLICANOS')\n",
    "estados_2021 = estados_2021.replace('PPS', 'CIDADANIA')\n",
    "estados_2021 = estados_2021.replace('PR', 'PL')\n",
    "\n",
    "estados_2018 = estados_2018.replace('ZZ', 'EXTERIOR')\n",
    "estados_2021 = estados_2021.replace('ZZ', 'EXTERIOR')\n",
    "estados_2018.head(10)"
   ]
  },
  {
   "cell_type": "markdown",
   "metadata": {},
   "source": [
    "## Juntando as planilhas\n",
    "\n",
    "Posteriormente, cada linha das planilhas recebe um \"id\" único, composto por Abrangência (sigla do estado) e nome do partido (`Abr_Part`). Esses \"id's\" permitem que o método `.merge` do Pandas seja utilizado para juntar os dados das duas planilhas. "
   ]
  },
  {
   "cell_type": "code",
   "execution_count": 26,
   "metadata": {},
   "outputs": [
    {
     "data": {
      "text/html": "<div>\n<style scoped>\n    .dataframe tbody tr th:only-of-type {\n        vertical-align: middle;\n    }\n\n    .dataframe tbody tr th {\n        vertical-align: top;\n    }\n\n    .dataframe thead th {\n        text-align: right;\n    }\n</style>\n<table border=\"1\" class=\"dataframe\">\n  <thead>\n    <tr style=\"text-align: right;\">\n      <th></th>\n      <th>Abrangência</th>\n      <th>Partido</th>\n      <th>Eleitores</th>\n      <th>%</th>\n      <th>id</th>\n    </tr>\n  </thead>\n  <tbody>\n    <tr>\n      <th>0</th>\n      <td>AC</td>\n      <td>AVANTE</td>\n      <td>664</td>\n      <td>0,004</td>\n      <td>AC_AVANTE</td>\n    </tr>\n    <tr>\n      <th>1</th>\n      <td>AC</td>\n      <td>DC</td>\n      <td>1.250</td>\n      <td>0,007</td>\n      <td>AC_DC</td>\n    </tr>\n    <tr>\n      <th>2</th>\n      <td>AC</td>\n      <td>DEM</td>\n      <td>3.104</td>\n      <td>0,018</td>\n      <td>AC_DEM</td>\n    </tr>\n    <tr>\n      <th>3</th>\n      <td>AC</td>\n      <td>MDB</td>\n      <td>8.728</td>\n      <td>0,052</td>\n      <td>AC_MDB</td>\n    </tr>\n    <tr>\n      <th>4</th>\n      <td>AC</td>\n      <td>NOVO</td>\n      <td>22</td>\n      <td>0,000</td>\n      <td>AC_NOVO</td>\n    </tr>\n    <tr>\n      <th>5</th>\n      <td>AC</td>\n      <td>PATRIOTA</td>\n      <td>270</td>\n      <td>0,002</td>\n      <td>AC_PATRIOTA</td>\n    </tr>\n    <tr>\n      <th>6</th>\n      <td>AC</td>\n      <td>PCDOB</td>\n      <td>8.168</td>\n      <td>0,049</td>\n      <td>AC_PCDOB</td>\n    </tr>\n    <tr>\n      <th>7</th>\n      <td>AC</td>\n      <td>PCB</td>\n      <td>84</td>\n      <td>0,001</td>\n      <td>AC_PCB</td>\n    </tr>\n    <tr>\n      <th>8</th>\n      <td>AC</td>\n      <td>PCO</td>\n      <td>25</td>\n      <td>0,000</td>\n      <td>AC_PCO</td>\n    </tr>\n    <tr>\n      <th>9</th>\n      <td>AC</td>\n      <td>PDT</td>\n      <td>2.207</td>\n      <td>0,013</td>\n      <td>AC_PDT</td>\n    </tr>\n  </tbody>\n</table>\n</div>",
      "text/plain": "  Abrangência   Partido Eleitores      %           id\n0          AC    AVANTE       664  0,004    AC_AVANTE\n1          AC        DC     1.250  0,007        AC_DC\n2          AC       DEM     3.104  0,018       AC_DEM\n3          AC       MDB     8.728  0,052       AC_MDB\n4          AC      NOVO        22  0,000      AC_NOVO\n5          AC  PATRIOTA       270  0,002  AC_PATRIOTA\n6          AC     PCDOB     8.168  0,049     AC_PCDOB\n7          AC       PCB        84  0,001       AC_PCB\n8          AC       PCO        25  0,000       AC_PCO\n9          AC       PDT     2.207  0,013       AC_PDT"
     },
     "execution_count": 26,
     "metadata": {},
     "output_type": "execute_result"
    }
   ],
   "source": [
    "# Criando os ids em estados_2018:\n",
    "ids = list()\n",
    "for row in estados_2018.index:\n",
    "    ids.append(f\"{estados_2018['Abrangência'][row]}_{estados_2018['Partido'][row]}\")\n",
    "\n",
    "estados_2018['id'] = ids\n",
    "estados_2018.head(10)"
   ]
  },
  {
   "cell_type": "code",
   "execution_count": 27,
   "metadata": {},
   "outputs": [
    {
     "data": {
      "text/html": "<div>\n<style scoped>\n    .dataframe tbody tr th:only-of-type {\n        vertical-align: middle;\n    }\n\n    .dataframe tbody tr th {\n        vertical-align: top;\n    }\n\n    .dataframe thead th {\n        text-align: right;\n    }\n</style>\n<table border=\"1\" class=\"dataframe\">\n  <thead>\n    <tr style=\"text-align: right;\">\n      <th></th>\n      <th>Abrangência</th>\n      <th>Partido</th>\n      <th>Eleitores</th>\n      <th>%</th>\n      <th>id</th>\n    </tr>\n  </thead>\n  <tbody>\n    <tr>\n      <th>0</th>\n      <td>AC</td>\n      <td>AVANTE</td>\n      <td>671</td>\n      <td>0,004</td>\n      <td>AC_AVANTE</td>\n    </tr>\n    <tr>\n      <th>1</th>\n      <td>AC</td>\n      <td>CIDADANIA</td>\n      <td>1.333</td>\n      <td>0,008</td>\n      <td>AC_CIDADANIA</td>\n    </tr>\n    <tr>\n      <th>2</th>\n      <td>AC</td>\n      <td>DC</td>\n      <td>1.124</td>\n      <td>0,007</td>\n      <td>AC_DC</td>\n    </tr>\n    <tr>\n      <th>3</th>\n      <td>AC</td>\n      <td>DEM</td>\n      <td>3.240</td>\n      <td>0,020</td>\n      <td>AC_DEM</td>\n    </tr>\n    <tr>\n      <th>4</th>\n      <td>AC</td>\n      <td>MDB</td>\n      <td>9.023</td>\n      <td>0,056</td>\n      <td>AC_MDB</td>\n    </tr>\n    <tr>\n      <th>5</th>\n      <td>AC</td>\n      <td>NOVO</td>\n      <td>25</td>\n      <td>0,000</td>\n      <td>AC_NOVO</td>\n    </tr>\n    <tr>\n      <th>6</th>\n      <td>AC</td>\n      <td>PATRIOTA</td>\n      <td>1.121</td>\n      <td>0,007</td>\n      <td>AC_PATRIOTA</td>\n    </tr>\n    <tr>\n      <th>7</th>\n      <td>AC</td>\n      <td>PCB</td>\n      <td>72</td>\n      <td>0,000</td>\n      <td>AC_PCB</td>\n    </tr>\n    <tr>\n      <th>8</th>\n      <td>AC</td>\n      <td>PCDOB</td>\n      <td>7.595</td>\n      <td>0,047</td>\n      <td>AC_PCDOB</td>\n    </tr>\n    <tr>\n      <th>9</th>\n      <td>AC</td>\n      <td>PCO</td>\n      <td>35</td>\n      <td>0,000</td>\n      <td>AC_PCO</td>\n    </tr>\n  </tbody>\n</table>\n</div>",
      "text/plain": "  Abrangência    Partido Eleitores      %            id\n0          AC     AVANTE       671  0,004     AC_AVANTE\n1          AC  CIDADANIA     1.333  0,008  AC_CIDADANIA\n2          AC         DC     1.124  0,007         AC_DC\n3          AC        DEM     3.240  0,020        AC_DEM\n4          AC        MDB     9.023  0,056        AC_MDB\n5          AC       NOVO        25  0,000       AC_NOVO\n6          AC   PATRIOTA     1.121  0,007   AC_PATRIOTA\n7          AC        PCB        72  0,000        AC_PCB\n8          AC      PCDOB     7.595  0,047      AC_PCDOB\n9          AC        PCO        35  0,000        AC_PCO"
     },
     "execution_count": 27,
     "metadata": {},
     "output_type": "execute_result"
    }
   ],
   "source": [
    "# Criando os ids em estados_2021:\n",
    "ids = list()\n",
    "for row in estados_2021.index:\n",
    "    ids.append(f\"{estados_2021['Abrangência'][row]}_{estados_2021['Partido'][row]}\")\n",
    "\n",
    "estados_2021['id'] = ids\n",
    "estados_2021.head(10)"
   ]
  },
  {
   "cell_type": "code",
   "execution_count": 28,
   "metadata": {},
   "outputs": [
    {
     "data": {
      "text/html": "<div>\n<style scoped>\n    .dataframe tbody tr th:only-of-type {\n        vertical-align: middle;\n    }\n\n    .dataframe tbody tr th {\n        vertical-align: top;\n    }\n\n    .dataframe thead th {\n        text-align: right;\n    }\n</style>\n<table border=\"1\" class=\"dataframe\">\n  <thead>\n    <tr style=\"text-align: right;\">\n      <th></th>\n      <th>Abrangência_2021</th>\n      <th>Partido_2021</th>\n      <th>Eleitores_2021</th>\n      <th>%_2021</th>\n      <th>id</th>\n      <th>Abrangência_2018</th>\n      <th>Partido_2018</th>\n      <th>Eleitores_2018</th>\n      <th>%_2018</th>\n    </tr>\n  </thead>\n  <tbody>\n    <tr>\n      <th>0</th>\n      <td>AC</td>\n      <td>AVANTE</td>\n      <td>671</td>\n      <td>0,004</td>\n      <td>AC_AVANTE</td>\n      <td>AC</td>\n      <td>AVANTE</td>\n      <td>664</td>\n      <td>0,004</td>\n    </tr>\n    <tr>\n      <th>1</th>\n      <td>AC</td>\n      <td>CIDADANIA</td>\n      <td>1.333</td>\n      <td>0,008</td>\n      <td>AC_CIDADANIA</td>\n      <td>AC</td>\n      <td>CIDADANIA</td>\n      <td>1.515</td>\n      <td>0,009</td>\n    </tr>\n    <tr>\n      <th>2</th>\n      <td>AC</td>\n      <td>DC</td>\n      <td>1.124</td>\n      <td>0,007</td>\n      <td>AC_DC</td>\n      <td>AC</td>\n      <td>DC</td>\n      <td>1.250</td>\n      <td>0,007</td>\n    </tr>\n    <tr>\n      <th>3</th>\n      <td>AC</td>\n      <td>DEM</td>\n      <td>3.240</td>\n      <td>0,020</td>\n      <td>AC_DEM</td>\n      <td>AC</td>\n      <td>DEM</td>\n      <td>3.104</td>\n      <td>0,018</td>\n    </tr>\n    <tr>\n      <th>4</th>\n      <td>AC</td>\n      <td>MDB</td>\n      <td>9.023</td>\n      <td>0,056</td>\n      <td>AC_MDB</td>\n      <td>AC</td>\n      <td>MDB</td>\n      <td>8.728</td>\n      <td>0,052</td>\n    </tr>\n    <tr>\n      <th>5</th>\n      <td>AC</td>\n      <td>NOVO</td>\n      <td>25</td>\n      <td>0,000</td>\n      <td>AC_NOVO</td>\n      <td>AC</td>\n      <td>NOVO</td>\n      <td>22</td>\n      <td>0,000</td>\n    </tr>\n    <tr>\n      <th>6</th>\n      <td>AC</td>\n      <td>PATRIOTA</td>\n      <td>1.121</td>\n      <td>0,007</td>\n      <td>AC_PATRIOTA</td>\n      <td>AC</td>\n      <td>PATRIOTA</td>\n      <td>270</td>\n      <td>0,002</td>\n    </tr>\n    <tr>\n      <th>7</th>\n      <td>AC</td>\n      <td>PCB</td>\n      <td>72</td>\n      <td>0,000</td>\n      <td>AC_PCB</td>\n      <td>AC</td>\n      <td>PCB</td>\n      <td>84</td>\n      <td>0,001</td>\n    </tr>\n    <tr>\n      <th>8</th>\n      <td>AC</td>\n      <td>PCDOB</td>\n      <td>7.595</td>\n      <td>0,047</td>\n      <td>AC_PCDOB</td>\n      <td>AC</td>\n      <td>PCDOB</td>\n      <td>8.168</td>\n      <td>0,049</td>\n    </tr>\n    <tr>\n      <th>9</th>\n      <td>AC</td>\n      <td>PCO</td>\n      <td>35</td>\n      <td>0,000</td>\n      <td>AC_PCO</td>\n      <td>AC</td>\n      <td>PCO</td>\n      <td>25</td>\n      <td>0,000</td>\n    </tr>\n    <tr>\n      <th>10</th>\n      <td>AC</td>\n      <td>PDT</td>\n      <td>2.627</td>\n      <td>0,016</td>\n      <td>AC_PDT</td>\n      <td>AC</td>\n      <td>PDT</td>\n      <td>2.207</td>\n      <td>0,013</td>\n    </tr>\n    <tr>\n      <th>11</th>\n      <td>AC</td>\n      <td>PL</td>\n      <td>2.148</td>\n      <td>0,013</td>\n      <td>AC_PL</td>\n      <td>AC</td>\n      <td>PL</td>\n      <td>1.910</td>\n      <td>0,011</td>\n    </tr>\n    <tr>\n      <th>12</th>\n      <td>AC</td>\n      <td>PMB</td>\n      <td>1.190</td>\n      <td>0,007</td>\n      <td>AC_PMB</td>\n      <td>AC</td>\n      <td>PMB</td>\n      <td>1.253</td>\n      <td>0,007</td>\n    </tr>\n    <tr>\n      <th>13</th>\n      <td>AC</td>\n      <td>PMN</td>\n      <td>1.161</td>\n      <td>0,007</td>\n      <td>AC_PMN</td>\n      <td>AC</td>\n      <td>PMN</td>\n      <td>1.260</td>\n      <td>0,008</td>\n    </tr>\n    <tr>\n      <th>14</th>\n      <td>AC</td>\n      <td>PODE</td>\n      <td>3.968</td>\n      <td>0,025</td>\n      <td>AC_PODE</td>\n      <td>AC</td>\n      <td>PODE</td>\n      <td>1.391</td>\n      <td>0,008</td>\n    </tr>\n    <tr>\n      <th>15</th>\n      <td>AC</td>\n      <td>PP</td>\n      <td>6.921</td>\n      <td>0,043</td>\n      <td>AC_PP</td>\n      <td>AC</td>\n      <td>PP</td>\n      <td>6.041</td>\n      <td>0,036</td>\n    </tr>\n    <tr>\n      <th>16</th>\n      <td>AC</td>\n      <td>PROS</td>\n      <td>1.741</td>\n      <td>0,011</td>\n      <td>AC_PROS</td>\n      <td>AC</td>\n      <td>PROS</td>\n      <td>1.117</td>\n      <td>0,007</td>\n    </tr>\n    <tr>\n      <th>17</th>\n      <td>AC</td>\n      <td>PRTB</td>\n      <td>1.165</td>\n      <td>0,007</td>\n      <td>AC_PRTB</td>\n      <td>AC</td>\n      <td>PRTB</td>\n      <td>1.356</td>\n      <td>0,008</td>\n    </tr>\n    <tr>\n      <th>18</th>\n      <td>AC</td>\n      <td>PSB</td>\n      <td>3.840</td>\n      <td>0,024</td>\n      <td>AC_PSB</td>\n      <td>AC</td>\n      <td>PSB</td>\n      <td>3.972</td>\n      <td>0,024</td>\n    </tr>\n    <tr>\n      <th>19</th>\n      <td>AC</td>\n      <td>PSC</td>\n      <td>1.478</td>\n      <td>0,009</td>\n      <td>AC_PSC</td>\n      <td>AC</td>\n      <td>PSC</td>\n      <td>1.537</td>\n      <td>0,009</td>\n    </tr>\n    <tr>\n      <th>20</th>\n      <td>AC</td>\n      <td>PSD</td>\n      <td>1.794</td>\n      <td>0,011</td>\n      <td>AC_PSD</td>\n      <td>AC</td>\n      <td>PSD</td>\n      <td>1.046</td>\n      <td>0,006</td>\n    </tr>\n    <tr>\n      <th>21</th>\n      <td>AC</td>\n      <td>PSDB</td>\n      <td>6.097</td>\n      <td>0,038</td>\n      <td>AC_PSDB</td>\n      <td>AC</td>\n      <td>PSDB</td>\n      <td>6.012</td>\n      <td>0,036</td>\n    </tr>\n    <tr>\n      <th>22</th>\n      <td>AC</td>\n      <td>PSL</td>\n      <td>383</td>\n      <td>0,002</td>\n      <td>AC_PSL</td>\n      <td>AC</td>\n      <td>PSL</td>\n      <td>448</td>\n      <td>0,003</td>\n    </tr>\n    <tr>\n      <th>23</th>\n      <td>AC</td>\n      <td>PSOL</td>\n      <td>1.970</td>\n      <td>0,012</td>\n      <td>AC_PSOL</td>\n      <td>AC</td>\n      <td>PSOL</td>\n      <td>1.602</td>\n      <td>0,010</td>\n    </tr>\n    <tr>\n      <th>24</th>\n      <td>AC</td>\n      <td>PSTU</td>\n      <td>71</td>\n      <td>0,000</td>\n      <td>AC_PSTU</td>\n      <td>AC</td>\n      <td>PSTU</td>\n      <td>75</td>\n      <td>0,000</td>\n    </tr>\n    <tr>\n      <th>25</th>\n      <td>AC</td>\n      <td>PT</td>\n      <td>9.065</td>\n      <td>0,057</td>\n      <td>AC_PT</td>\n      <td>AC</td>\n      <td>PT</td>\n      <td>10.388</td>\n      <td>0,062</td>\n    </tr>\n    <tr>\n      <th>26</th>\n      <td>AC</td>\n      <td>PTB</td>\n      <td>1.684</td>\n      <td>0,011</td>\n      <td>AC_PTB</td>\n      <td>AC</td>\n      <td>PTB</td>\n      <td>2.016</td>\n      <td>0,012</td>\n    </tr>\n    <tr>\n      <th>27</th>\n      <td>AC</td>\n      <td>PTC</td>\n      <td>901</td>\n      <td>0,006</td>\n      <td>AC_PTC</td>\n      <td>AC</td>\n      <td>PTC</td>\n      <td>1.119</td>\n      <td>0,007</td>\n    </tr>\n    <tr>\n      <th>28</th>\n      <td>AC</td>\n      <td>PV</td>\n      <td>1.623</td>\n      <td>0,010</td>\n      <td>AC_PV</td>\n      <td>AC</td>\n      <td>PV</td>\n      <td>1.831</td>\n      <td>0,011</td>\n    </tr>\n    <tr>\n      <th>29</th>\n      <td>AC</td>\n      <td>REDE</td>\n      <td>84</td>\n      <td>0,001</td>\n      <td>AC_REDE</td>\n      <td>AC</td>\n      <td>REDE</td>\n      <td>110</td>\n      <td>0,001</td>\n    </tr>\n    <tr>\n      <th>30</th>\n      <td>AC</td>\n      <td>REPUBLICANOS</td>\n      <td>1.924</td>\n      <td>0,012</td>\n      <td>AC_REPUBLICANOS</td>\n      <td>AC</td>\n      <td>REPUBLICANOS</td>\n      <td>1.798</td>\n      <td>0,011</td>\n    </tr>\n    <tr>\n      <th>31</th>\n      <td>AC</td>\n      <td>SOLIDARIEDADE</td>\n      <td>1.191</td>\n      <td>0,007</td>\n      <td>AC_SOLIDARIEDADE</td>\n      <td>AC</td>\n      <td>SOLIDARIEDADE</td>\n      <td>450</td>\n      <td>0,003</td>\n    </tr>\n    <tr>\n      <th>32</th>\n      <td>AL</td>\n      <td>AVANTE</td>\n      <td>4.001</td>\n      <td>0,025</td>\n      <td>AL_AVANTE</td>\n      <td>AL</td>\n      <td>AVANTE</td>\n      <td>4.381</td>\n      <td>0,026</td>\n    </tr>\n    <tr>\n      <th>33</th>\n      <td>AL</td>\n      <td>CIDADANIA</td>\n      <td>5.430</td>\n      <td>0,034</td>\n      <td>AL_CIDADANIA</td>\n      <td>AL</td>\n      <td>CIDADANIA</td>\n      <td>5.994</td>\n      <td>0,036</td>\n    </tr>\n    <tr>\n      <th>34</th>\n      <td>AL</td>\n      <td>DC</td>\n      <td>2.069</td>\n      <td>0,013</td>\n      <td>AL_DC</td>\n      <td>AL</td>\n      <td>DC</td>\n      <td>2.454</td>\n      <td>0,015</td>\n    </tr>\n    <tr>\n      <th>35</th>\n      <td>AL</td>\n      <td>DEM</td>\n      <td>9.501</td>\n      <td>0,059</td>\n      <td>AL_DEM</td>\n      <td>AL</td>\n      <td>DEM</td>\n      <td>10.213</td>\n      <td>0,061</td>\n    </tr>\n    <tr>\n      <th>36</th>\n      <td>AL</td>\n      <td>MDB</td>\n      <td>18.041</td>\n      <td>0,113</td>\n      <td>AL_MDB</td>\n      <td>AL</td>\n      <td>MDB</td>\n      <td>16.164</td>\n      <td>0,096</td>\n    </tr>\n    <tr>\n      <th>37</th>\n      <td>AL</td>\n      <td>NOVO</td>\n      <td>151</td>\n      <td>0,001</td>\n      <td>AL_NOVO</td>\n      <td>AL</td>\n      <td>NOVO</td>\n      <td>101</td>\n      <td>0,001</td>\n    </tr>\n    <tr>\n      <th>38</th>\n      <td>AL</td>\n      <td>PATRIOTA</td>\n      <td>7.985</td>\n      <td>0,050</td>\n      <td>AL_PATRIOTA</td>\n      <td>AL</td>\n      <td>PATRIOTA</td>\n      <td>919</td>\n      <td>0,005</td>\n    </tr>\n    <tr>\n      <th>39</th>\n      <td>AL</td>\n      <td>PCB</td>\n      <td>36</td>\n      <td>0,000</td>\n      <td>AL_PCB</td>\n      <td>AL</td>\n      <td>PCB</td>\n      <td>32</td>\n      <td>0,000</td>\n    </tr>\n  </tbody>\n</table>\n</div>",
      "text/plain": "   Abrangência_2021   Partido_2021 Eleitores_2021 %_2021                id  \\\n0                AC         AVANTE            671  0,004         AC_AVANTE   \n1                AC      CIDADANIA          1.333  0,008      AC_CIDADANIA   \n2                AC             DC          1.124  0,007             AC_DC   \n3                AC            DEM          3.240  0,020            AC_DEM   \n4                AC            MDB          9.023  0,056            AC_MDB   \n5                AC           NOVO             25  0,000           AC_NOVO   \n6                AC       PATRIOTA          1.121  0,007       AC_PATRIOTA   \n7                AC            PCB             72  0,000            AC_PCB   \n8                AC          PCDOB          7.595  0,047          AC_PCDOB   \n9                AC            PCO             35  0,000            AC_PCO   \n10               AC            PDT          2.627  0,016            AC_PDT   \n11               AC             PL          2.148  0,013             AC_PL   \n12               AC            PMB          1.190  0,007            AC_PMB   \n13               AC            PMN          1.161  0,007            AC_PMN   \n14               AC           PODE          3.968  0,025           AC_PODE   \n15               AC             PP          6.921  0,043             AC_PP   \n16               AC           PROS          1.741  0,011           AC_PROS   \n17               AC           PRTB          1.165  0,007           AC_PRTB   \n18               AC            PSB          3.840  0,024            AC_PSB   \n19               AC            PSC          1.478  0,009            AC_PSC   \n20               AC            PSD          1.794  0,011            AC_PSD   \n21               AC           PSDB          6.097  0,038           AC_PSDB   \n22               AC            PSL            383  0,002            AC_PSL   \n23               AC           PSOL          1.970  0,012           AC_PSOL   \n24               AC           PSTU             71  0,000           AC_PSTU   \n25               AC             PT          9.065  0,057             AC_PT   \n26               AC            PTB          1.684  0,011            AC_PTB   \n27               AC            PTC            901  0,006            AC_PTC   \n28               AC             PV          1.623  0,010             AC_PV   \n29               AC           REDE             84  0,001           AC_REDE   \n30               AC   REPUBLICANOS          1.924  0,012   AC_REPUBLICANOS   \n31               AC  SOLIDARIEDADE          1.191  0,007  AC_SOLIDARIEDADE   \n32               AL         AVANTE          4.001  0,025         AL_AVANTE   \n33               AL      CIDADANIA          5.430  0,034      AL_CIDADANIA   \n34               AL             DC          2.069  0,013             AL_DC   \n35               AL            DEM          9.501  0,059            AL_DEM   \n36               AL            MDB         18.041  0,113            AL_MDB   \n37               AL           NOVO            151  0,001           AL_NOVO   \n38               AL       PATRIOTA          7.985  0,050       AL_PATRIOTA   \n39               AL            PCB             36  0,000            AL_PCB   \n\n   Abrangência_2018   Partido_2018 Eleitores_2018 %_2018  \n0                AC         AVANTE            664  0,004  \n1                AC      CIDADANIA          1.515  0,009  \n2                AC             DC          1.250  0,007  \n3                AC            DEM          3.104  0,018  \n4                AC            MDB          8.728  0,052  \n5                AC           NOVO             22  0,000  \n6                AC       PATRIOTA            270  0,002  \n7                AC            PCB             84  0,001  \n8                AC          PCDOB          8.168  0,049  \n9                AC            PCO             25  0,000  \n10               AC            PDT          2.207  0,013  \n11               AC             PL          1.910  0,011  \n12               AC            PMB          1.253  0,007  \n13               AC            PMN          1.260  0,008  \n14               AC           PODE          1.391  0,008  \n15               AC             PP          6.041  0,036  \n16               AC           PROS          1.117  0,007  \n17               AC           PRTB          1.356  0,008  \n18               AC            PSB          3.972  0,024  \n19               AC            PSC          1.537  0,009  \n20               AC            PSD          1.046  0,006  \n21               AC           PSDB          6.012  0,036  \n22               AC            PSL            448  0,003  \n23               AC           PSOL          1.602  0,010  \n24               AC           PSTU             75  0,000  \n25               AC             PT         10.388  0,062  \n26               AC            PTB          2.016  0,012  \n27               AC            PTC          1.119  0,007  \n28               AC             PV          1.831  0,011  \n29               AC           REDE            110  0,001  \n30               AC   REPUBLICANOS          1.798  0,011  \n31               AC  SOLIDARIEDADE            450  0,003  \n32               AL         AVANTE          4.381  0,026  \n33               AL      CIDADANIA          5.994  0,036  \n34               AL             DC          2.454  0,015  \n35               AL            DEM         10.213  0,061  \n36               AL            MDB         16.164  0,096  \n37               AL           NOVO            101  0,001  \n38               AL       PATRIOTA            919  0,005  \n39               AL            PCB             32  0,000  "
     },
     "execution_count": 28,
     "metadata": {},
     "output_type": "execute_result"
    }
   ],
   "source": [
    "# Juntando e checando a comparação das planilhas:\n",
    "estados_cmp = pd.merge(estados_2021, estados_2018, on='id', how='outer', suffixes=('_2021', '_2018'))\n",
    "\n",
    "estados_cmp['Eleitores_2018'] = estados_cmp['Eleitores_2018'].fillna(0)\n",
    "estados_cmp['Eleitores_2021'] = estados_cmp['Eleitores_2021'].fillna(0)\n",
    "\n",
    "estados_cmp.head(40)"
   ]
  },
  {
   "cell_type": "markdown",
   "metadata": {},
   "source": [
    "## Finalizando\n",
    "\n",
    "Por fim, é criado um novo DataFrame, baseado no recente `estados_cmp`, que contém os dados de ambos os primeiros. Nesse, a coluna dos \"id's\" é retirada, uma vez que não é mais necessária, e dados redundantes de estados e partidos também são removidos. Também é adicionada uma nova coluna, que contém a diferença entre os dados de 2021 e 2018."
   ]
  },
  {
   "cell_type": "code",
   "execution_count": 29,
   "metadata": {},
   "outputs": [
    {
     "data": {
      "text/html": "<div>\n<style scoped>\n    .dataframe tbody tr th:only-of-type {\n        vertical-align: middle;\n    }\n\n    .dataframe tbody tr th {\n        vertical-align: top;\n    }\n\n    .dataframe thead th {\n        text-align: right;\n    }\n</style>\n<table border=\"1\" class=\"dataframe\">\n  <thead>\n    <tr style=\"text-align: right;\">\n      <th></th>\n      <th>Abrangência</th>\n      <th>Diferença</th>\n      <th>Filiados_2018</th>\n      <th>Filiados_2021</th>\n      <th>Partido</th>\n    </tr>\n  </thead>\n  <tbody>\n    <tr>\n      <th>0</th>\n      <td>AC</td>\n      <td>7.0</td>\n      <td>664.0</td>\n      <td>671.0</td>\n      <td>AVANTE</td>\n    </tr>\n    <tr>\n      <th>1</th>\n      <td>AC</td>\n      <td>-182.0</td>\n      <td>1515.0</td>\n      <td>1333.0</td>\n      <td>CIDADANIA</td>\n    </tr>\n    <tr>\n      <th>2</th>\n      <td>AC</td>\n      <td>-126.0</td>\n      <td>1250.0</td>\n      <td>1124.0</td>\n      <td>DC</td>\n    </tr>\n    <tr>\n      <th>3</th>\n      <td>AC</td>\n      <td>136.0</td>\n      <td>3104.0</td>\n      <td>3240.0</td>\n      <td>DEM</td>\n    </tr>\n    <tr>\n      <th>4</th>\n      <td>AC</td>\n      <td>295.0</td>\n      <td>8728.0</td>\n      <td>9023.0</td>\n      <td>MDB</td>\n    </tr>\n    <tr>\n      <th>5</th>\n      <td>AC</td>\n      <td>3.0</td>\n      <td>22.0</td>\n      <td>25.0</td>\n      <td>NOVO</td>\n    </tr>\n    <tr>\n      <th>6</th>\n      <td>AC</td>\n      <td>851.0</td>\n      <td>270.0</td>\n      <td>1121.0</td>\n      <td>PATRIOTA</td>\n    </tr>\n    <tr>\n      <th>7</th>\n      <td>AC</td>\n      <td>-12.0</td>\n      <td>84.0</td>\n      <td>72.0</td>\n      <td>PCB</td>\n    </tr>\n    <tr>\n      <th>8</th>\n      <td>AC</td>\n      <td>-573.0</td>\n      <td>8168.0</td>\n      <td>7595.0</td>\n      <td>PCDOB</td>\n    </tr>\n    <tr>\n      <th>9</th>\n      <td>AC</td>\n      <td>10.0</td>\n      <td>25.0</td>\n      <td>35.0</td>\n      <td>PCO</td>\n    </tr>\n  </tbody>\n</table>\n</div>",
      "text/plain": "  Abrangência  Diferença  Filiados_2018  Filiados_2021    Partido\n0          AC        7.0          664.0          671.0     AVANTE\n1          AC     -182.0         1515.0         1333.0  CIDADANIA\n2          AC     -126.0         1250.0         1124.0         DC\n3          AC      136.0         3104.0         3240.0        DEM\n4          AC      295.0         8728.0         9023.0        MDB\n5          AC        3.0           22.0           25.0       NOVO\n6          AC      851.0          270.0         1121.0   PATRIOTA\n7          AC      -12.0           84.0           72.0        PCB\n8          AC     -573.0         8168.0         7595.0      PCDOB\n9          AC       10.0           25.0           35.0        PCO"
     },
     "execution_count": 29,
     "metadata": {},
     "output_type": "execute_result"
    }
   ],
   "source": [
    "estados_final = pd.DataFrame()\n",
    "\n",
    "for row in estados_cmp.index:\n",
    "    if estados_cmp['id'][row].split(\"_\")[0] != 'TOTAL':\n",
    "        new_row = {\n",
    "            'Abrangência': estados_cmp['id'][row].split(\"_\")[0],\n",
    "            'Partido': estados_cmp['id'][row].split(\"_\")[1],\n",
    "            'Filiados_2021': int(str(estados_cmp['Eleitores_2021'][row]).replace('.','')),\n",
    "            'Filiados_2018': int(str(estados_cmp['Eleitores_2018'][row]).replace('.','')),\n",
    "            'Diferença': int(str(estados_cmp['Eleitores_2021'][row]).replace('.','')) - int(str(estados_cmp['Eleitores_2018'][row]).replace('.',''))\n",
    "        }\n",
    "    estados_final = estados_final.append(new_row, ignore_index=True)\n",
    "    \n",
    "estados_final.head(10)"
   ]
  },
  {
   "cell_type": "markdown",
   "metadata": {},
   "source": [
    "Por fim, esse DataFrame é convertido em um arquivo do Excel (`.xlsx`) para análise dos dados. "
   ]
  },
  {
   "cell_type": "code",
   "execution_count": 30,
   "metadata": {},
   "outputs": [],
   "source": [
    "estados_final.to_excel('filiados_por_estado.xlsx')"
   ]
  }
 ],
 "metadata": {
  "kernelspec": {
   "display_name": "Python 3.8.5 64-bit",
   "name": "python385jvsc74a57bd031f2aee4e71d21fbe5cf8b01ff0e069b9275f58929596ceb00d14d90e3e16cd6"
  },
  "language_info": {
   "codemirror_mode": {
    "name": "ipython",
    "version": 3
   },
   "file_extension": ".py",
   "mimetype": "text/x-python",
   "name": "python",
   "nbconvert_exporter": "python",
   "pygments_lexer": "ipython3",
   "version": "3.8.5"
  },
  "metadata": {
   "interpreter": {
    "hash": "31f2aee4e71d21fbe5cf8b01ff0e069b9275f58929596ceb00d14d90e3e16cd6"
   }
  }
 },
 "nbformat": 4,
 "nbformat_minor": 5
}